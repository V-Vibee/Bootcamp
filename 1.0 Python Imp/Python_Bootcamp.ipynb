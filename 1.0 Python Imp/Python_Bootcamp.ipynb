{
  "nbformat": 4,
  "nbformat_minor": 0,
  "metadata": {
    "colab": {
      "provenance": []
    },
    "kernelspec": {
      "name": "python3",
      "display_name": "Python 3"
    },
    "language_info": {
      "name": "python"
    }
  },
  "cells": [
    {
      "cell_type": "markdown",
      "source": [
        "#**Variables**"
      ],
      "metadata": {
        "id": "vpfFFiT9smvj"
      }
    },
    {
      "cell_type": "code",
      "execution_count": null,
      "metadata": {
        "colab": {
          "base_uri": "https://localhost:8080/"
        },
        "id": "mccBOSogsAfm",
        "outputId": "d0918769-72fa-4f6c-ee3e-fa26d8b22ee2"
      },
      "outputs": [
        {
          "output_type": "stream",
          "name": "stdout",
          "text": [
            "['Chocolate', 'Vanilla', 'Pista']\n",
            "['Chocolate', 'Vanilla', 'Pista']\n",
            "['Chocolate', 'Vanilla', 'Pista']\n"
          ]
        }
      ],
      "source": [
        "ice_cream= [ 'Chocolate', 'Vanilla', 'Pista']\n",
        "\n",
        "x=y=z= ice_cream\n",
        "\n",
        "print(x)\n",
        "print(y)\n",
        "print(z)"
      ]
    },
    {
      "cell_type": "code",
      "source": [
        "ice_cream= [ 'Chocolate', 'Vanilla', 'Pista']\n",
        "\n",
        "x,y,z= ice_cream\n",
        "\n",
        "print(x)\n",
        "print(y)\n",
        "print(z)"
      ],
      "metadata": {
        "colab": {
          "base_uri": "https://localhost:8080/"
        },
        "id": "WlBHS3cqsO5J",
        "outputId": "c4b0fb87-69f9-4ba7-8ebe-2a7a8e834cc9"
      },
      "execution_count": null,
      "outputs": [
        {
          "output_type": "stream",
          "name": "stdout",
          "text": [
            "Chocolate\n",
            "Vanilla\n",
            "Pista\n"
          ]
        }
      ]
    },
    {
      "cell_type": "markdown",
      "source": [
        "**Test Variable Case**"
      ],
      "metadata": {
        "id": "Hhh9a2I6tcTl"
      }
    },
    {
      "cell_type": "code",
      "source": [
        "#Camel Case\n",
        "\n",
        "testVariableCase= 'Vanilla Swirl'"
      ],
      "metadata": {
        "id": "06Orqs4Lsfax"
      },
      "execution_count": null,
      "outputs": []
    },
    {
      "cell_type": "code",
      "source": [
        "#Pascal case\n",
        "\n",
        "\n",
        "TestVariableCase= 'Vanilla Swirl'"
      ],
      "metadata": {
        "id": "E9f9Jf4dslKm"
      },
      "execution_count": null,
      "outputs": []
    },
    {
      "cell_type": "code",
      "source": [
        "#Sanke case\n",
        "\n",
        "test_variable_case= 'Vanilla Swirl'"
      ],
      "metadata": {
        "id": "F2Yd6na3slNg"
      },
      "execution_count": null,
      "outputs": []
    },
    {
      "cell_type": "markdown",
      "source": [
        "**Data Types**"
      ],
      "metadata": {
        "id": "252z8O0BA05q"
      }
    },
    {
      "cell_type": "code",
      "source": [
        "# Integer\n",
        "# Floats\n",
        "# Complex Numbers"
      ],
      "metadata": {
        "id": "TiHVy9hSslP9"
      },
      "execution_count": null,
      "outputs": []
    },
    {
      "cell_type": "code",
      "source": [
        "type(12)"
      ],
      "metadata": {
        "id": "c5VH3CV3slSG",
        "colab": {
          "base_uri": "https://localhost:8080/"
        },
        "outputId": "b5e513d8-6a01-4c2e-cc94-f950095059cc"
      },
      "execution_count": 1,
      "outputs": [
        {
          "output_type": "execute_result",
          "data": {
            "text/plain": [
              "int"
            ]
          },
          "metadata": {},
          "execution_count": 1
        }
      ]
    },
    {
      "cell_type": "code",
      "source": [
        "type(12+ 10.25)"
      ],
      "metadata": {
        "colab": {
          "base_uri": "https://localhost:8080/"
        },
        "id": "69e4KfGDFwMR",
        "outputId": "cb1126e1-ea2b-4d55-ccaa-92051d3c9986"
      },
      "execution_count": 3,
      "outputs": [
        {
          "output_type": "execute_result",
          "data": {
            "text/plain": [
              "float"
            ]
          },
          "metadata": {},
          "execution_count": 3
        }
      ]
    },
    {
      "cell_type": "code",
      "source": [
        "type(12+ 5j)"
      ],
      "metadata": {
        "colab": {
          "base_uri": "https://localhost:8080/"
        },
        "id": "-HkwomEuF2l_",
        "outputId": "a7b9ff36-1390-426d-a437-ac8b807b2e77"
      },
      "execution_count": 4,
      "outputs": [
        {
          "output_type": "execute_result",
          "data": {
            "text/plain": [
              "complex"
            ]
          },
          "metadata": {},
          "execution_count": 4
        }
      ]
    },
    {
      "cell_type": "code",
      "source": [
        "type(True)"
      ],
      "metadata": {
        "colab": {
          "base_uri": "https://localhost:8080/"
        },
        "id": "u5h0pWTxGAxn",
        "outputId": "47dbcd53-6d3e-4747-89da-5cc6bc5e09aa"
      },
      "execution_count": 5,
      "outputs": [
        {
          "output_type": "execute_result",
          "data": {
            "text/plain": [
              "bool"
            ]
          },
          "metadata": {},
          "execution_count": 5
        }
      ]
    },
    {
      "cell_type": "code",
      "source": [
        "type(False)"
      ],
      "metadata": {
        "colab": {
          "base_uri": "https://localhost:8080/"
        },
        "id": "5Zla6fDmGC2_",
        "outputId": "e687af4d-0576-44c0-88af-69bba50bc7f6"
      },
      "execution_count": 6,
      "outputs": [
        {
          "output_type": "execute_result",
          "data": {
            "text/plain": [
              "bool"
            ]
          },
          "metadata": {},
          "execution_count": 6
        }
      ]
    },
    {
      "cell_type": "code",
      "source": [
        "1>5"
      ],
      "metadata": {
        "colab": {
          "base_uri": "https://localhost:8080/"
        },
        "id": "VYGn7uVuGFzP",
        "outputId": "3481f2e4-8754-4ba4-f329-07f0dae16983"
      },
      "execution_count": 7,
      "outputs": [
        {
          "output_type": "execute_result",
          "data": {
            "text/plain": [
              "False"
            ]
          },
          "metadata": {},
          "execution_count": 7
        }
      ]
    },
    {
      "cell_type": "code",
      "source": [
        "1==1"
      ],
      "metadata": {
        "colab": {
          "base_uri": "https://localhost:8080/"
        },
        "id": "JIIaM2OWGHD3",
        "outputId": "72a49568-8355-4e0a-980d-9ca94b6f19f7"
      },
      "execution_count": 8,
      "outputs": [
        {
          "output_type": "execute_result",
          "data": {
            "text/plain": [
              "True"
            ]
          },
          "metadata": {},
          "execution_count": 8
        }
      ]
    },
    {
      "cell_type": "markdown",
      "source": [
        "**Strings**"
      ],
      "metadata": {
        "id": "5e5wvlCAGP-b"
      }
    },
    {
      "cell_type": "code",
      "source": [
        "'Single quotes'"
      ],
      "metadata": {
        "colab": {
          "base_uri": "https://localhost:8080/",
          "height": 36
        },
        "id": "EhvIKkCyGJg_",
        "outputId": "fa4c64d8-2564-4031-98a9-a82cde496185"
      },
      "execution_count": 9,
      "outputs": [
        {
          "output_type": "execute_result",
          "data": {
            "text/plain": [
              "'Single quotes'"
            ],
            "application/vnd.google.colaboratory.intrinsic+json": {
              "type": "string"
            }
          },
          "metadata": {},
          "execution_count": 9
        }
      ]
    },
    {
      "cell_type": "code",
      "source": [
        "\"Double quotes\""
      ],
      "metadata": {
        "colab": {
          "base_uri": "https://localhost:8080/",
          "height": 36
        },
        "id": "Itp4RNn5GStG",
        "outputId": "d9f60579-4050-407a-89b4-23025ed42df5"
      },
      "execution_count": 10,
      "outputs": [
        {
          "output_type": "execute_result",
          "data": {
            "text/plain": [
              "'Double quotes'"
            ],
            "application/vnd.google.colaboratory.intrinsic+json": {
              "type": "string"
            }
          },
          "metadata": {},
          "execution_count": 10
        }
      ]
    },
    {
      "cell_type": "code",
      "source": [
        "Analogy= \"\"\"\n",
        "Yesterday it rained\n",
        "But Today it is clear\n",
        "Maybe tomorrow no one can predict\n",
        "Dayafter will be Awesome\"\"\""
      ],
      "metadata": {
        "id": "auQkvHo-GQt_"
      },
      "execution_count": 17,
      "outputs": []
    },
    {
      "cell_type": "code",
      "source": [
        "print(Analogy)"
      ],
      "metadata": {
        "colab": {
          "base_uri": "https://localhost:8080/"
        },
        "id": "Euv26F1AGc3X",
        "outputId": "96361425-60b3-4a73-df6f-fdc3dd4befd8"
      },
      "execution_count": 18,
      "outputs": [
        {
          "output_type": "stream",
          "name": "stdout",
          "text": [
            "\n",
            "Yesterday it rained\n",
            "But Today it is clear\n",
            "Maybe tomorrow no one can predict\n",
            "Dayafter will be Awesome\n"
          ]
        }
      ]
    },
    {
      "cell_type": "code",
      "source": [
        "type(Analogy)"
      ],
      "metadata": {
        "colab": {
          "base_uri": "https://localhost:8080/"
        },
        "id": "tDL6uINlHJgE",
        "outputId": "ed624989-cda6-47b1-ce10-763618208904"
      },
      "execution_count": 19,
      "outputs": [
        {
          "output_type": "execute_result",
          "data": {
            "text/plain": [
              "str"
            ]
          },
          "metadata": {},
          "execution_count": 19
        }
      ]
    },
    {
      "cell_type": "code",
      "source": [
        "a= 'Hello World'\n",
        "print(a[:5])"
      ],
      "metadata": {
        "colab": {
          "base_uri": "https://localhost:8080/"
        },
        "id": "7_AZjvyeHqaw",
        "outputId": "9af0af8e-560d-4fe8-c5b8-6049da59053d"
      },
      "execution_count": 20,
      "outputs": [
        {
          "output_type": "stream",
          "name": "stdout",
          "text": [
            "Hello\n"
          ]
        }
      ]
    },
    {
      "cell_type": "code",
      "source": [
        "print(a[-1])"
      ],
      "metadata": {
        "colab": {
          "base_uri": "https://localhost:8080/"
        },
        "id": "JsMO2ixpHusG",
        "outputId": "c8f3e730-060f-476f-c598-44a48816e773"
      },
      "execution_count": 22,
      "outputs": [
        {
          "output_type": "stream",
          "name": "stdout",
          "text": [
            "d\n"
          ]
        }
      ]
    },
    {
      "cell_type": "code",
      "source": [
        "# tuple is immutable, usually used when data is never gonna change\n",
        "\n",
        "# Set is somewhat similar to list but it doesnt contain duplicate values"
      ],
      "metadata": {
        "id": "8Mb-B9EjH3f1"
      },
      "execution_count": 23,
      "outputs": []
    },
    {
      "cell_type": "code",
      "source": [
        "set_example= {1,2,3}\n",
        "\n",
        "type(set_example)"
      ],
      "metadata": {
        "colab": {
          "base_uri": "https://localhost:8080/"
        },
        "id": "ZGkH8aD5Kred",
        "outputId": "0b8732a4-cc53-43e1-d0e4-2ac3bb015386"
      },
      "execution_count": 25,
      "outputs": [
        {
          "output_type": "execute_result",
          "data": {
            "text/plain": [
              "set"
            ]
          },
          "metadata": {},
          "execution_count": 25
        }
      ]
    },
    {
      "cell_type": "code",
      "source": [
        "# Dictionary\n",
        "# Key value pair"
      ],
      "metadata": {
        "id": "k5fTPzgCLMMV"
      },
      "execution_count": null,
      "outputs": []
    },
    {
      "cell_type": "markdown",
      "source": [
        "**Operators**"
      ],
      "metadata": {
        "id": "8Kht-AdHNg35"
      }
    },
    {
      "cell_type": "code",
      "source": [
        "10 == 10"
      ],
      "metadata": {
        "colab": {
          "base_uri": "https://localhost:8080/"
        },
        "id": "EFnwk2XCNgCG",
        "outputId": "53849a95-2f81-44f0-a5a9-deb8dea61be5"
      },
      "execution_count": 30,
      "outputs": [
        {
          "output_type": "execute_result",
          "data": {
            "text/plain": [
              "True"
            ]
          },
          "metadata": {},
          "execution_count": 30
        }
      ]
    },
    {
      "cell_type": "code",
      "source": [
        "10 != 50"
      ],
      "metadata": {
        "colab": {
          "base_uri": "https://localhost:8080/"
        },
        "id": "kV_ERb01NgEv",
        "outputId": "9ed7101f-82f1-4248-caac-c594d301d656"
      },
      "execution_count": 28,
      "outputs": [
        {
          "output_type": "execute_result",
          "data": {
            "text/plain": [
              "True"
            ]
          },
          "metadata": {},
          "execution_count": 28
        }
      ]
    },
    {
      "cell_type": "code",
      "source": [
        "x= 'vanilla'\n",
        "y= 'chocolate'\n",
        "\n",
        "x == y"
      ],
      "metadata": {
        "colab": {
          "base_uri": "https://localhost:8080/"
        },
        "id": "D3EtDMnrNgHV",
        "outputId": "9629da88-1646-424d-9925-d9dcb30a6906"
      },
      "execution_count": 29,
      "outputs": [
        {
          "output_type": "execute_result",
          "data": {
            "text/plain": [
              "False"
            ]
          },
          "metadata": {},
          "execution_count": 29
        }
      ]
    },
    {
      "cell_type": "code",
      "source": [
        "10 <=10"
      ],
      "metadata": {
        "colab": {
          "base_uri": "https://localhost:8080/"
        },
        "id": "VJgujgxkNgMS",
        "outputId": "90a80d37-7e8f-4c18-84de-137b88a31939"
      },
      "execution_count": 31,
      "outputs": [
        {
          "output_type": "execute_result",
          "data": {
            "text/plain": [
              "True"
            ]
          },
          "metadata": {},
          "execution_count": 31
        }
      ]
    },
    {
      "cell_type": "markdown",
      "source": [
        "**Logical Operators**"
      ],
      "metadata": {
        "id": "bHkVV5tJRhUB"
      }
    },
    {
      "cell_type": "code",
      "source": [
        "# Logical operators are and, or, not"
      ],
      "metadata": {
        "id": "fwMerK60NgO_"
      },
      "execution_count": 31,
      "outputs": []
    },
    {
      "cell_type": "code",
      "source": [
        "(10 >50) and (50 > 10)"
      ],
      "metadata": {
        "colab": {
          "base_uri": "https://localhost:8080/"
        },
        "id": "_esbKoi-NgRM",
        "outputId": "39e3f62e-289c-4def-f8a8-223f547175f3"
      },
      "execution_count": 32,
      "outputs": [
        {
          "output_type": "execute_result",
          "data": {
            "text/plain": [
              "False"
            ]
          },
          "metadata": {},
          "execution_count": 32
        }
      ]
    },
    {
      "cell_type": "code",
      "source": [
        "(10 >50) or (50 > 10)"
      ],
      "metadata": {
        "colab": {
          "base_uri": "https://localhost:8080/"
        },
        "id": "sxJA-fZENgTx",
        "outputId": "d6d8a43f-519c-4c46-ce15-1972e37988f7"
      },
      "execution_count": 33,
      "outputs": [
        {
          "output_type": "execute_result",
          "data": {
            "text/plain": [
              "True"
            ]
          },
          "metadata": {},
          "execution_count": 33
        }
      ]
    },
    {
      "cell_type": "code",
      "source": [
        "('Vanilla' > 'Chocolate') and (50 > 10)"
      ],
      "metadata": {
        "colab": {
          "base_uri": "https://localhost:8080/"
        },
        "id": "WJ3MFJImNgWU",
        "outputId": "1586b2a9-33e6-4b8a-dd41-dcd44f5aeca9"
      },
      "execution_count": 37,
      "outputs": [
        {
          "output_type": "execute_result",
          "data": {
            "text/plain": [
              "True"
            ]
          },
          "metadata": {},
          "execution_count": 37
        }
      ]
    },
    {
      "cell_type": "markdown",
      "source": [
        "**Membership Operators**"
      ],
      "metadata": {
        "id": "6_nd-vRVSRH1"
      }
    },
    {
      "cell_type": "code",
      "source": [
        "ice_ceram= 'I love chocolate icecream'\n",
        "\n",
        "'love' in 'I love chocolate icecream'"
      ],
      "metadata": {
        "colab": {
          "base_uri": "https://localhost:8080/"
        },
        "id": "rUg5WXOyNgZJ",
        "outputId": "22a9953c-2640-4b51-f7c4-3f6fb6b80d7d"
      },
      "execution_count": 39,
      "outputs": [
        {
          "output_type": "execute_result",
          "data": {
            "text/plain": [
              "True"
            ]
          },
          "metadata": {},
          "execution_count": 39
        }
      ]
    },
    {
      "cell_type": "code",
      "source": [
        "scoops= [1,2,3,4,5,6]\n",
        "\n",
        "2 in scoops"
      ],
      "metadata": {
        "colab": {
          "base_uri": "https://localhost:8080/"
        },
        "id": "LLvRdqTHSThW",
        "outputId": "4cc76401-5332-4496-ceef-37c2545639bd"
      },
      "execution_count": 40,
      "outputs": [
        {
          "output_type": "execute_result",
          "data": {
            "text/plain": [
              "True"
            ]
          },
          "metadata": {},
          "execution_count": 40
        }
      ]
    },
    {
      "cell_type": "code",
      "source": [
        "7 not in scoops"
      ],
      "metadata": {
        "colab": {
          "base_uri": "https://localhost:8080/"
        },
        "id": "2X9pl-33St6X",
        "outputId": "7091d9d5-48b3-4e00-bb32-79e99f0c009c"
      },
      "execution_count": 42,
      "outputs": [
        {
          "output_type": "execute_result",
          "data": {
            "text/plain": [
              "True"
            ]
          },
          "metadata": {},
          "execution_count": 42
        }
      ]
    },
    {
      "cell_type": "markdown",
      "source": [
        "**If Else Statement**"
      ],
      "metadata": {
        "id": "nJyLRn28TFUj"
      }
    },
    {
      "cell_type": "code",
      "source": [
        "if 25 > 10:\n",
        "  print('It is greater')"
      ],
      "metadata": {
        "colab": {
          "base_uri": "https://localhost:8080/"
        },
        "id": "VNHXGPiLS2VH",
        "outputId": "c28b5b39-82b0-4ea8-88d4-981eeaa03688"
      },
      "execution_count": 43,
      "outputs": [
        {
          "output_type": "stream",
          "name": "stdout",
          "text": [
            "It is greater\n"
          ]
        }
      ]
    },
    {
      "cell_type": "code",
      "source": [
        "if 25 < 10:\n",
        "  print('It is greater')\n",
        "else:\n",
        "    print('It is not........')"
      ],
      "metadata": {
        "colab": {
          "base_uri": "https://localhost:8080/"
        },
        "id": "ITUUPwSTTH1m",
        "outputId": "09feded1-0da3-46cd-8c85-3e49f682cd70"
      },
      "execution_count": 48,
      "outputs": [
        {
          "output_type": "stream",
          "name": "stdout",
          "text": [
            "It is not........\n"
          ]
        }
      ]
    },
    {
      "cell_type": "code",
      "source": [
        "if 25 < 10:\n",
        "  print('It is greater')\n",
        "elif 25 < 30:\n",
        "  print('elif worked !')\n",
        "else:\n",
        "    print('It is not........')"
      ],
      "metadata": {
        "colab": {
          "base_uri": "https://localhost:8080/"
        },
        "id": "z4Gh2SMGTyNR",
        "outputId": "d5505f0d-4ad9-4d09-e881-ea634f8d437a"
      },
      "execution_count": 50,
      "outputs": [
        {
          "output_type": "stream",
          "name": "stdout",
          "text": [
            "elif worked !\n"
          ]
        }
      ]
    },
    {
      "cell_type": "code",
      "source": [
        "if 25 < 10:\n",
        "  print('It is greater')\n",
        "elif 25 < 20:\n",
        "  print('elif worked !')\n",
        "elif 25 < 21:\n",
        "  print('elif 2 worked !')\n",
        "elif 25 < 40:\n",
        "  print('elif 3 worked !')\n",
        "elif 25 < 30:\n",
        "  print('elif 4 worked !')\n",
        "else:\n",
        "    print('It is not........')"
      ],
      "metadata": {
        "colab": {
          "base_uri": "https://localhost:8080/"
        },
        "id": "P-ea-scnU_tG",
        "outputId": "a59e1a43-2b1f-4e1d-de6d-600e4b5ee70c"
      },
      "execution_count": 51,
      "outputs": [
        {
          "output_type": "stream",
          "name": "stdout",
          "text": [
            "elif 3 worked !\n"
          ]
        }
      ]
    },
    {
      "cell_type": "code",
      "source": [
        "print('It worked') if 10 >30 else print('it did not worked....')"
      ],
      "metadata": {
        "colab": {
          "base_uri": "https://localhost:8080/"
        },
        "id": "-Rl46OEYVkX3",
        "outputId": "26ebff08-a68e-49c3-9be2-190cc631f26d"
      },
      "execution_count": 52,
      "outputs": [
        {
          "output_type": "stream",
          "name": "stdout",
          "text": [
            "it did not worked....\n"
          ]
        }
      ]
    },
    {
      "cell_type": "markdown",
      "source": [
        "**Nested If statement**"
      ],
      "metadata": {
        "id": "gXTwE_9dWLeh"
      }
    },
    {
      "cell_type": "code",
      "source": [
        "if (25 < 10) or (1 < 3):\n",
        "  print('It is greater')\n",
        "  if 10 > 5:\n",
        "    print(\"This nested is working\")\n",
        "elif 25 < 20:\n",
        "  print('elif worked !')\n",
        "elif 25 < 21:\n",
        "  print('elif 2 worked !')\n",
        "elif 25 < 40:\n",
        "  print('elif 3 worked !')\n",
        "elif 25 < 30:\n",
        "  print('elif 4 worked !')\n",
        "else:\n",
        "    print('It is not........')"
      ],
      "metadata": {
        "colab": {
          "base_uri": "https://localhost:8080/"
        },
        "id": "1n3lcMWgV_um",
        "outputId": "0cb50b46-d829-4d01-faca-a1462aef6730"
      },
      "execution_count": 54,
      "outputs": [
        {
          "output_type": "stream",
          "name": "stdout",
          "text": [
            "It is greater\n",
            "This nested is working\n"
          ]
        }
      ]
    },
    {
      "cell_type": "markdown",
      "source": [
        "#**For Loops**"
      ],
      "metadata": {
        "id": "wbQEXwhslQtf"
      }
    },
    {
      "cell_type": "code",
      "source": [
        "integers= [1,2,3,4,5,6]"
      ],
      "metadata": {
        "id": "DeYd4zp2WNp8"
      },
      "execution_count": 55,
      "outputs": []
    },
    {
      "cell_type": "code",
      "source": [
        "for number in integers:\n",
        "  print(number)"
      ],
      "metadata": {
        "colab": {
          "base_uri": "https://localhost:8080/"
        },
        "id": "z9YqRCAglTYa",
        "outputId": "3daa2d67-fcd5-4096-845b-6fd23ae8f968"
      },
      "execution_count": 57,
      "outputs": [
        {
          "output_type": "stream",
          "name": "stdout",
          "text": [
            "1\n",
            "2\n",
            "3\n",
            "4\n",
            "5\n",
            "6\n"
          ]
        }
      ]
    },
    {
      "cell_type": "code",
      "source": [
        "for number in integers:\n",
        "  print('yep!')"
      ],
      "metadata": {
        "colab": {
          "base_uri": "https://localhost:8080/"
        },
        "id": "otq-58XBltnL",
        "outputId": "f6f1be05-289d-4763-a3c8-a55d2d3d0645"
      },
      "execution_count": 61,
      "outputs": [
        {
          "output_type": "stream",
          "name": "stdout",
          "text": [
            "yep!\n",
            "yep!\n",
            "yep!\n",
            "yep!\n",
            "yep!\n",
            "yep!\n"
          ]
        }
      ]
    },
    {
      "cell_type": "code",
      "source": [
        "integers= [1,2,3,4,5,6]\n",
        "for jelly in integers:\n",
        "  print(jelly + jelly)"
      ],
      "metadata": {
        "colab": {
          "base_uri": "https://localhost:8080/"
        },
        "id": "b_w4J1donkrp",
        "outputId": "2bae26a1-6505-485d-a7f9-184465b98fef"
      },
      "execution_count": 64,
      "outputs": [
        {
          "output_type": "stream",
          "name": "stdout",
          "text": [
            "2\n",
            "4\n",
            "6\n",
            "8\n",
            "10\n",
            "12\n"
          ]
        }
      ]
    },
    {
      "cell_type": "code",
      "source": [
        "ice_cream_dict= {'name': \"Rocky\", 'weekly intake': 5, 'favourite icecreams': ['Mango', 'Chocolate', 'Vanilla', 'Pista']}"
      ],
      "metadata": {
        "id": "Pi7pvXB0n_pj"
      },
      "execution_count": 74,
      "outputs": []
    },
    {
      "cell_type": "code",
      "source": [
        "for cream in ice_cream_dict.values():\n",
        "  print (cream)"
      ],
      "metadata": {
        "colab": {
          "base_uri": "https://localhost:8080/"
        },
        "id": "8-toZsc5orFC",
        "outputId": "237a233b-1d5e-4d00-bd1b-e03837391978"
      },
      "execution_count": 75,
      "outputs": [
        {
          "output_type": "stream",
          "name": "stdout",
          "text": [
            "Rocky\n",
            "5\n",
            "['Mango', 'Chocolate', 'Vanilla', 'Pista']\n"
          ]
        }
      ]
    },
    {
      "cell_type": "code",
      "source": [
        "for key, value in ice_cream_dict.items():\n",
        "  print (key, '-->', value)"
      ],
      "metadata": {
        "colab": {
          "base_uri": "https://localhost:8080/"
        },
        "id": "DHpXoxe6oy4J",
        "outputId": "f32d1061-32c0-473f-cc9a-dc38e4003c9e"
      },
      "execution_count": 76,
      "outputs": [
        {
          "output_type": "stream",
          "name": "stdout",
          "text": [
            "name --> Rocky\n",
            "weekly intake --> 5\n",
            "favourite icecreams --> ['Mango', 'Chocolate', 'Vanilla', 'Pista']\n"
          ]
        }
      ]
    },
    {
      "cell_type": "markdown",
      "source": [
        "**Nested For Loops Statement**"
      ],
      "metadata": {
        "id": "2EhRemwBpoBK"
      }
    },
    {
      "cell_type": "code",
      "source": [
        "flavours= ['Vanilla', 'Strawberry','Mango', 'Butterscotch', 'Chocolate']\n",
        "toppings= ['Hot Fudge', 'Oreos', 'marshmallows', 'nuts', 'volcano']"
      ],
      "metadata": {
        "id": "jWeXmMNKpa5B"
      },
      "execution_count": 78,
      "outputs": []
    },
    {
      "cell_type": "code",
      "source": [
        "for one in flavours:\n",
        "  for two in toppings:\n",
        "    print(one, 'topped with', two)"
      ],
      "metadata": {
        "colab": {
          "base_uri": "https://localhost:8080/"
        },
        "id": "s6o8ajkUpn5o",
        "outputId": "754a0afb-b58e-43b2-89de-53e9c1ec925d"
      },
      "execution_count": 79,
      "outputs": [
        {
          "output_type": "stream",
          "name": "stdout",
          "text": [
            "Vanilla topped with Hot Fudge\n",
            "Vanilla topped with Oreos\n",
            "Vanilla topped with marshmallows\n",
            "Vanilla topped with nuts\n",
            "Vanilla topped with volcano\n",
            "Strawberry topped with Hot Fudge\n",
            "Strawberry topped with Oreos\n",
            "Strawberry topped with marshmallows\n",
            "Strawberry topped with nuts\n",
            "Strawberry topped with volcano\n",
            "Mango topped with Hot Fudge\n",
            "Mango topped with Oreos\n",
            "Mango topped with marshmallows\n",
            "Mango topped with nuts\n",
            "Mango topped with volcano\n",
            "Butterscotch topped with Hot Fudge\n",
            "Butterscotch topped with Oreos\n",
            "Butterscotch topped with marshmallows\n",
            "Butterscotch topped with nuts\n",
            "Butterscotch topped with volcano\n",
            "Chocolate topped with Hot Fudge\n",
            "Chocolate topped with Oreos\n",
            "Chocolate topped with marshmallows\n",
            "Chocolate topped with nuts\n",
            "Chocolate topped with volcano\n"
          ]
        }
      ]
    },
    {
      "cell_type": "markdown",
      "source": [
        "#**While Loops**"
      ],
      "metadata": {
        "id": "z2CWkN7urR_l"
      }
    },
    {
      "cell_type": "code",
      "source": [
        "number= 0\n",
        "\n",
        "while number  < 5:\n",
        "  print (number)\n",
        "  number= number+1"
      ],
      "metadata": {
        "colab": {
          "base_uri": "https://localhost:8080/"
        },
        "id": "dnEmgFTfpn20",
        "outputId": "a7693db7-efe1-4709-84f5-7fc639ce2963"
      },
      "execution_count": 84,
      "outputs": [
        {
          "output_type": "stream",
          "name": "stdout",
          "text": [
            "0\n",
            "1\n",
            "2\n",
            "3\n",
            "4\n"
          ]
        }
      ]
    },
    {
      "cell_type": "code",
      "source": [
        "number= 0\n",
        "\n",
        "while number  < 5:\n",
        "  print (number)\n",
        "  if number == 3:\n",
        "    break\n",
        "  number= number+1"
      ],
      "metadata": {
        "colab": {
          "base_uri": "https://localhost:8080/"
        },
        "id": "1HKLy8lXpsP4",
        "outputId": "45f43467-e69e-48db-b4df-c2efbd42aad1"
      },
      "execution_count": 85,
      "outputs": [
        {
          "output_type": "stream",
          "name": "stdout",
          "text": [
            "0\n",
            "1\n",
            "2\n",
            "3\n"
          ]
        }
      ]
    },
    {
      "cell_type": "code",
      "source": [
        "number= 0\n",
        "\n",
        "while number  < 5:\n",
        "  print (number)\n",
        "  if number == 8:\n",
        "    break\n",
        "  number= number+1\n",
        "else:\n",
        "  print('No longer <5')\n"
      ],
      "metadata": {
        "colab": {
          "base_uri": "https://localhost:8080/"
        },
        "id": "AvfmT9Pasdiw",
        "outputId": "ada33b9b-cf89-46eb-c412-67572ccc2e5e"
      },
      "execution_count": 87,
      "outputs": [
        {
          "output_type": "stream",
          "name": "stdout",
          "text": [
            "0\n",
            "1\n",
            "2\n",
            "3\n",
            "4\n",
            "No longer <5\n"
          ]
        }
      ]
    },
    {
      "cell_type": "code",
      "source": [
        "number= 0\n",
        "\n",
        "while number  < 5:\n",
        " number= number+1\n",
        " if number == 3:\n",
        "    continue\n",
        " print(number)\n",
        "else:\n",
        "  print('No longer <5')\n"
      ],
      "metadata": {
        "colab": {
          "base_uri": "https://localhost:8080/"
        },
        "id": "973eZRJUswJI",
        "outputId": "84a9e4a9-abf5-40c1-a55d-9cea5b654e08"
      },
      "execution_count": 93,
      "outputs": [
        {
          "output_type": "stream",
          "name": "stdout",
          "text": [
            "1\n",
            "2\n",
            "4\n",
            "5\n",
            "No longer <5\n"
          ]
        }
      ]
    },
    {
      "cell_type": "markdown",
      "source": [
        "#**Function in Python**"
      ],
      "metadata": {
        "id": "IuwtHd7At6AB"
      }
    },
    {
      "cell_type": "code",
      "source": [
        "def first_func():\n",
        "  print('We did it!')"
      ],
      "metadata": {
        "id": "rgDWSJc2tErA"
      },
      "execution_count": 96,
      "outputs": []
    },
    {
      "cell_type": "code",
      "source": [
        "first_func()"
      ],
      "metadata": {
        "colab": {
          "base_uri": "https://localhost:8080/"
        },
        "id": "Qhe4iScZwfeK",
        "outputId": "90c8b4cb-72f1-463e-abcf-82a57a06f769"
      },
      "execution_count": 97,
      "outputs": [
        {
          "output_type": "stream",
          "name": "stdout",
          "text": [
            "We did it!\n"
          ]
        }
      ]
    },
    {
      "cell_type": "code",
      "source": [
        "def num_squared(number):\n",
        "  print(number**2)\n"
      ],
      "metadata": {
        "id": "26k0h5TRwoLO"
      },
      "execution_count": 102,
      "outputs": []
    },
    {
      "cell_type": "code",
      "source": [
        "num_squared(5)"
      ],
      "metadata": {
        "colab": {
          "base_uri": "https://localhost:8080/"
        },
        "id": "_2gpFNdowi5G",
        "outputId": "73652fc4-cc84-4eb6-be92-365d95eb43af"
      },
      "execution_count": 103,
      "outputs": [
        {
          "output_type": "stream",
          "name": "stdout",
          "text": [
            "25\n"
          ]
        }
      ]
    },
    {
      "cell_type": "code",
      "source": [
        "def num_squared_cust(number, power):\n",
        "  print(number**power)\n"
      ],
      "metadata": {
        "id": "DwQwsC13w6bm"
      },
      "execution_count": 104,
      "outputs": []
    },
    {
      "cell_type": "code",
      "source": [
        "num_squared_cust(5,3)"
      ],
      "metadata": {
        "colab": {
          "base_uri": "https://localhost:8080/"
        },
        "id": "Lz53KAgqyxLl",
        "outputId": "fe0e3c76-a948-4ec4-e04f-58b19baf4870"
      },
      "execution_count": 106,
      "outputs": [
        {
          "output_type": "stream",
          "name": "stdout",
          "text": [
            "3125\n"
          ]
        }
      ]
    },
    {
      "cell_type": "code",
      "source": [
        "def num_args(*number):\n",
        "  print(number[0] * number[1])"
      ],
      "metadata": {
        "id": "M9zQm_iky1j9"
      },
      "execution_count": 108,
      "outputs": []
    },
    {
      "cell_type": "code",
      "source": [
        "num_args(5,6,2,5,6)"
      ],
      "metadata": {
        "colab": {
          "base_uri": "https://localhost:8080/"
        },
        "id": "x75vdE--zwaV",
        "outputId": "c81f84c0-8273-476d-8f58-6a19fc3b4317"
      },
      "execution_count": 110,
      "outputs": [
        {
          "output_type": "stream",
          "name": "stdout",
          "text": [
            "30\n"
          ]
        }
      ]
    },
    {
      "cell_type": "markdown",
      "source": [
        "**Another Method**"
      ],
      "metadata": {
        "id": "LDEZo5q00iL7"
      }
    },
    {
      "cell_type": "code",
      "source": [
        "args_tuple= (5,6,2,5,6)\n",
        "\n",
        "def num_args(*number):\n",
        "  print(number[0] * number[1])"
      ],
      "metadata": {
        "id": "vWxQzecr0BSt"
      },
      "execution_count": 111,
      "outputs": []
    },
    {
      "cell_type": "code",
      "source": [
        "num_args(*args_tuple)"
      ],
      "metadata": {
        "colab": {
          "base_uri": "https://localhost:8080/"
        },
        "id": "I1jPi-Rn0Yvc",
        "outputId": "a5905f78-8635-4dd2-faa4-b68f03692972"
      },
      "execution_count": 113,
      "outputs": [
        {
          "output_type": "stream",
          "name": "stdout",
          "text": [
            "30\n"
          ]
        }
      ]
    },
    {
      "cell_type": "code",
      "source": [
        "def num_squared_cust(number, power):\n",
        "  print(number**power)"
      ],
      "metadata": {
        "id": "bWi7jCn80c_F"
      },
      "execution_count": 1,
      "outputs": []
    },
    {
      "cell_type": "code",
      "source": [
        "num_squared_cust(power=5,number=3)"
      ],
      "metadata": {
        "colab": {
          "base_uri": "https://localhost:8080/"
        },
        "id": "piCZ4-PwMXG4",
        "outputId": "f631d518-6606-49e2-b136-3a4549a6274b"
      },
      "execution_count": 2,
      "outputs": [
        {
          "output_type": "stream",
          "name": "stdout",
          "text": [
            "243\n"
          ]
        }
      ]
    },
    {
      "cell_type": "markdown",
      "source": [
        "**Arbitrary Keywords**"
      ],
      "metadata": {
        "id": "AC_soxx-OfCb"
      }
    },
    {
      "cell_type": "code",
      "source": [
        "def number_kwarg(**number):\n",
        "  print('My number is: ' + number['integer'] + 'My other number:  '+  number['integer2'])"
      ],
      "metadata": {
        "id": "t5NXL-frMbMJ"
      },
      "execution_count": 15,
      "outputs": []
    },
    {
      "cell_type": "code",
      "source": [
        "number_kwarg(integer= '2309', integer2='349')"
      ],
      "metadata": {
        "colab": {
          "base_uri": "https://localhost:8080/"
        },
        "id": "qSs0Yi_cMnZI",
        "outputId": "64928690-2ea8-4784-d95d-b8343389b9a3"
      },
      "execution_count": 16,
      "outputs": [
        {
          "output_type": "stream",
          "name": "stdout",
          "text": [
            "My number is: 2309My other number:  349\n"
          ]
        }
      ]
    },
    {
      "cell_type": "markdown",
      "source": [
        "**Converting Data Types**"
      ],
      "metadata": {
        "id": "_PmeDLGIO2wY"
      }
    },
    {
      "cell_type": "code",
      "source": [
        "num_int= 7\n",
        "\n",
        "type(num_int)"
      ],
      "metadata": {
        "colab": {
          "base_uri": "https://localhost:8080/"
        },
        "id": "Kw233qTcNNyi",
        "outputId": "65c4fa45-7559-4de2-fb43-0925f49b65ba"
      },
      "execution_count": 18,
      "outputs": [
        {
          "output_type": "execute_result",
          "data": {
            "text/plain": [
              "int"
            ]
          },
          "metadata": {},
          "execution_count": 18
        }
      ]
    },
    {
      "cell_type": "code",
      "source": [
        "num_str= '7'\n",
        "\n",
        "type(num_str)"
      ],
      "metadata": {
        "colab": {
          "base_uri": "https://localhost:8080/"
        },
        "id": "g5cOt8hZO5DK",
        "outputId": "cf4351eb-4bdf-4031-b672-f4da5ea0b1a1"
      },
      "execution_count": 20,
      "outputs": [
        {
          "output_type": "execute_result",
          "data": {
            "text/plain": [
              "str"
            ]
          },
          "metadata": {},
          "execution_count": 20
        }
      ]
    },
    {
      "cell_type": "code",
      "source": [
        "num_str_converted= int(num_str)"
      ],
      "metadata": {
        "id": "V7kEjg5DPMZv"
      },
      "execution_count": 21,
      "outputs": []
    },
    {
      "cell_type": "code",
      "source": [
        "type(num_str_converted)"
      ],
      "metadata": {
        "colab": {
          "base_uri": "https://localhost:8080/"
        },
        "id": "iZDSUdPHPWS7",
        "outputId": "55b44d41-2595-4eff-e279-9cd36efa16d3"
      },
      "execution_count": 22,
      "outputs": [
        {
          "output_type": "execute_result",
          "data": {
            "text/plain": [
              "int"
            ]
          },
          "metadata": {},
          "execution_count": 22
        }
      ]
    },
    {
      "cell_type": "code",
      "source": [
        "num_sum= num_int + num_str_converted\n",
        "num_sum"
      ],
      "metadata": {
        "colab": {
          "base_uri": "https://localhost:8080/"
        },
        "id": "8bB06XzhPar6",
        "outputId": "38d9bda8-7c11-467a-dec9-60b83be65815"
      },
      "execution_count": 26,
      "outputs": [
        {
          "output_type": "execute_result",
          "data": {
            "text/plain": [
              "14"
            ]
          },
          "metadata": {},
          "execution_count": 26
        }
      ]
    },
    {
      "cell_type": "code",
      "source": [
        "list_type= [1,2,3]\n",
        "\n",
        "list_type"
      ],
      "metadata": {
        "colab": {
          "base_uri": "https://localhost:8080/"
        },
        "id": "VIPwHwhTPgkC",
        "outputId": "2a20ed9a-615f-42c3-d449-9a1713a27732"
      },
      "execution_count": 27,
      "outputs": [
        {
          "output_type": "execute_result",
          "data": {
            "text/plain": [
              "[1, 2, 3]"
            ]
          },
          "metadata": {},
          "execution_count": 27
        }
      ]
    },
    {
      "cell_type": "code",
      "source": [
        "type(tuple(list_type))"
      ],
      "metadata": {
        "colab": {
          "base_uri": "https://localhost:8080/"
        },
        "id": "1GFg4hRuQrQd",
        "outputId": "656a2bad-7246-4ee9-b202-d0edc284e69e"
      },
      "execution_count": 28,
      "outputs": [
        {
          "output_type": "execute_result",
          "data": {
            "text/plain": [
              "tuple"
            ]
          },
          "metadata": {},
          "execution_count": 28
        }
      ]
    },
    {
      "cell_type": "code",
      "source": [
        "list_type= [1,2,3,2,3,4,1,1,1,4,5]"
      ],
      "metadata": {
        "id": "2hJ7cMY6QxAd"
      },
      "execution_count": 29,
      "outputs": []
    },
    {
      "cell_type": "code",
      "source": [
        "set(list_type)"
      ],
      "metadata": {
        "colab": {
          "base_uri": "https://localhost:8080/"
        },
        "id": "fbV5shgFQ7kj",
        "outputId": "ed27473a-1fa0-4635-96b6-c6711df74970"
      },
      "execution_count": 30,
      "outputs": [
        {
          "output_type": "execute_result",
          "data": {
            "text/plain": [
              "{1, 2, 3, 4, 5}"
            ]
          },
          "metadata": {},
          "execution_count": 30
        }
      ]
    },
    {
      "cell_type": "code",
      "source": [],
      "metadata": {
        "id": "R-2GkO2OQ9Tb"
      },
      "execution_count": null,
      "outputs": []
    }
  ]
}