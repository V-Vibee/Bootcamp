{
  "nbformat": 4,
  "nbformat_minor": 0,
  "metadata": {
    "colab": {
      "provenance": []
    },
    "kernelspec": {
      "name": "python3",
      "display_name": "Python 3"
    },
    "language_info": {
      "name": "python"
    }
  },
  "cells": [
    {
      "cell_type": "code",
      "execution_count": 1,
      "metadata": {
        "id": "FMuqFG1lOrDT"
      },
      "outputs": [],
      "source": [
        "from bs4 import BeautifulSoup\n",
        "import requests"
      ]
    },
    {
      "cell_type": "code",
      "source": [
        "url='https://www.scrapethissite.com/pages/forms/'"
      ],
      "metadata": {
        "id": "0NELVi87O0cs"
      },
      "execution_count": 2,
      "outputs": []
    },
    {
      "cell_type": "code",
      "source": [
        "page= requests.get(url)"
      ],
      "metadata": {
        "id": "Ydjylbo7O8Kq"
      },
      "execution_count": 3,
      "outputs": []
    },
    {
      "cell_type": "code",
      "source": [
        "soup= BeautifulSoup(page.text,'html')"
      ],
      "metadata": {
        "id": "CgMnK4KDPBgZ"
      },
      "execution_count": 4,
      "outputs": []
    },
    {
      "cell_type": "markdown",
      "source": [
        "**Find will fetch u only first response**"
      ],
      "metadata": {
        "id": "ZmEOslvPPq6c"
      }
    },
    {
      "cell_type": "code",
      "source": [
        "soup.find('div')"
      ],
      "metadata": {
        "colab": {
          "base_uri": "https://localhost:8080/"
        },
        "id": "Y7Ke4uDePL_r",
        "outputId": "27c24404-4ace-41ef-9b86-2213c073416d"
      },
      "execution_count": 5,
      "outputs": [
        {
          "output_type": "execute_result",
          "data": {
            "text/plain": [
              "<div class=\"container\">\n",
              "<div class=\"col-md-12\">\n",
              "<ul class=\"nav nav-tabs\">\n",
              "<li id=\"nav-homepage\">\n",
              "<a class=\"nav-link hidden-sm hidden-xs\" href=\"/\">\n",
              "<img id=\"nav-logo\" src=\"/static/images/scraper-icon.png\"/>\n",
              "                                Scrape This Site\n",
              "                            </a>\n",
              "</li>\n",
              "<li id=\"nav-sandbox\">\n",
              "<a class=\"nav-link\" href=\"/pages/\">\n",
              "<i class=\"glyphicon glyphicon-console hidden-sm hidden-xs\"></i>\n",
              "                                Sandbox\n",
              "                            </a>\n",
              "</li>\n",
              "<li id=\"nav-lessons\">\n",
              "<a class=\"nav-link\" href=\"/lessons/\">\n",
              "<i class=\"glyphicon glyphicon-education hidden-sm hidden-xs\"></i>\n",
              "                                Lessons\n",
              "                            </a>\n",
              "</li>\n",
              "<li id=\"nav-faq\">\n",
              "<a class=\"nav-link\" href=\"/faq/\">\n",
              "<i class=\"glyphicon glyphicon-flag hidden-sm hidden-xs\"></i>\n",
              "                                FAQ\n",
              "                            </a>\n",
              "</li>\n",
              "<li class=\"pull-right\" id=\"nav-login\">\n",
              "<a class=\"nav-link\" href=\"/login/\">\n",
              "                                Login\n",
              "                            </a>\n",
              "</li>\n",
              "</ul>\n",
              "</div>\n",
              "</div>"
            ]
          },
          "metadata": {},
          "execution_count": 5
        }
      ]
    },
    {
      "cell_type": "markdown",
      "source": [
        "**Find all will fetch complete response**"
      ],
      "metadata": {
        "id": "WwG1hbXGTOsi"
      }
    },
    {
      "cell_type": "code",
      "source": [
        "soup.find_all('p', class_='lead')"
      ],
      "metadata": {
        "colab": {
          "base_uri": "https://localhost:8080/"
        },
        "id": "aAZhEEnyPdXD",
        "outputId": "93bd6cfa-58bc-41e4-b260-bfc48a82450e"
      },
      "execution_count": 9,
      "outputs": [
        {
          "output_type": "execute_result",
          "data": {
            "text/plain": [
              "[<p class=\"lead\">\n",
              "                             Browse through a database of NHL team stats since 1990. Practice building a scraper that handles common website interface components.\n",
              "                             Take a look at how pagination and search elements change the URL as your browse. Build a web scraper that can conduct searches and paginate through the results.\n",
              "                         </p>]"
            ]
          },
          "metadata": {},
          "execution_count": 9
        }
      ]
    },
    {
      "cell_type": "code",
      "source": [
        "soup.find('p', class_='lead').text.strip()"
      ],
      "metadata": {
        "colab": {
          "base_uri": "https://localhost:8080/",
          "height": 72
        },
        "id": "I6Sk1ttcPjib",
        "outputId": "db397fca-93f4-4f74-ae16-430fe3142a89"
      },
      "execution_count": 11,
      "outputs": [
        {
          "output_type": "execute_result",
          "data": {
            "text/plain": [
              "'Browse through a database of NHL team stats since 1990. Practice building a scraper that handles common website interface components.\\n                            Take a look at how pagination and search elements change the URL as your browse. Build a web scraper that can conduct searches and paginate through the results.'"
            ],
            "application/vnd.google.colaboratory.intrinsic+json": {
              "type": "string"
            }
          },
          "metadata": {},
          "execution_count": 11
        }
      ]
    },
    {
      "cell_type": "code",
      "source": [
        "soup.find_all('th')"
      ],
      "metadata": {
        "colab": {
          "base_uri": "https://localhost:8080/"
        },
        "id": "QZcVnDt7RaFh",
        "outputId": "e258cb1b-1317-444b-8041-7c1f7a285f9c"
      },
      "execution_count": 14,
      "outputs": [
        {
          "output_type": "execute_result",
          "data": {
            "text/plain": [
              "[<th>\n",
              "                             Team Name\n",
              "                         </th>,\n",
              " <th>\n",
              "                             Year\n",
              "                         </th>,\n",
              " <th>\n",
              "                             Wins\n",
              "                         </th>,\n",
              " <th>\n",
              "                             Losses\n",
              "                         </th>,\n",
              " <th>\n",
              "                             OT Losses\n",
              "                         </th>,\n",
              " <th>\n",
              "                             Win %\n",
              "                         </th>,\n",
              " <th>\n",
              "                             Goals For (GF)\n",
              "                         </th>,\n",
              " <th>\n",
              "                             Goals Against (GA)\n",
              "                         </th>,\n",
              " <th>\n",
              "                             + / -\n",
              "                         </th>]"
            ]
          },
          "metadata": {},
          "execution_count": 14
        }
      ]
    },
    {
      "cell_type": "code",
      "source": [
        "soup.find('th').text.strip()"
      ],
      "metadata": {
        "colab": {
          "base_uri": "https://localhost:8080/",
          "height": 36
        },
        "id": "XONhmZ2kSpCa",
        "outputId": "059a7be0-fcc0-4ed2-8c3b-a20b8fe30c0a"
      },
      "execution_count": 17,
      "outputs": [
        {
          "output_type": "execute_result",
          "data": {
            "text/plain": [
              "'Team Name'"
            ],
            "application/vnd.google.colaboratory.intrinsic+json": {
              "type": "string"
            }
          },
          "metadata": {},
          "execution_count": 17
        }
      ]
    },
    {
      "cell_type": "code",
      "source": [],
      "metadata": {
        "id": "7USlouo0S59R"
      },
      "execution_count": null,
      "outputs": []
    }
  ]
}